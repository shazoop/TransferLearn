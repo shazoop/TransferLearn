{
 "cells": [
  {
   "cell_type": "code",
   "execution_count": 1,
   "id": "aec942c3",
   "metadata": {},
   "outputs": [],
   "source": [
    "import numpy as np\n",
    "import torch\n",
    "import torchvision\n",
    "import torchvision.transforms as transforms\n",
    "from collections import namedtuple, deque\n",
    "import torch.nn as nn\n",
    "import torch.nn.functional as F\n",
    "import random as rand"
   ]
  },
  {
   "cell_type": "code",
   "execution_count": 2,
   "id": "e297edb0",
   "metadata": {},
   "outputs": [],
   "source": [
    "class world:\n",
    "    def __init__(self, function_set, dim = 20):\n",
    "        self.dim = dim\n",
    "        self.function_set = function_set\n",
    "        \n",
    "    def batch_state(self, state_ix): \n",
    "    #state_ix is  list of integers, one for each state in batch giving index of non-zero entry\n",
    "    #1d - for each, will create one-hot vector (length equal to dim) with non-zero entry at corresponding index in x.\n",
    "        batch_size = len(state_ix)\n",
    "        state = torch.zeros(batch_size, self.dim)\n",
    "        state[list(range(batch_size)),state_ix] = 1 #set corresponding index to 1\n",
    "        return state\n",
    "    \n",
    "    def batch_act(self, fun_ix, state_old): \n",
    "    #fun_ix is list of integers, one for each state giving index of function to be applied\n",
    "    #state is batch tensor of state: (B,n)\n",
    "        batch_size = len(fun_ix)\n",
    "        assert batch_size ==state_old.size(0)\n",
    "        state_new = torch.zeros_like(state_old)\n",
    "        for i in range(batch_size):\n",
    "            state_new[i] = self.function_set[fun_ix[i]](state_old[i])\n",
    "        return state_new\n",
    "    "
   ]
  },
  {
   "cell_type": "code",
   "execution_count": 3,
   "id": "3dea4f9b",
   "metadata": {},
   "outputs": [],
   "source": [
    "class phinet(nn.Module):\n",
    "    def __init__(self, input_dim):\n",
    "        super(phinet,self).__init__()\n",
    "        self.fc1 = nn.Linear(input_dim,10)\n",
    "        self.fc2 = nn.Linear(10,1)\n",
    "    def forward(self,x):\n",
    "        x = self.fc1(x)\n",
    "        x = F.relu(x)\n",
    "        x = self.fc2(x)\n",
    "        x = F.relu(x)\n",
    "        return x"
   ]
  },
  {
   "cell_type": "code",
   "execution_count": 19,
   "id": "721de081",
   "metadata": {},
   "outputs": [],
   "source": [
    "def train(model, device, out_world, in_world, optimizer, batch_size, print_interval, num_batches):\n",
    "    #learn phi map from out_world to in_world.\n",
    "    model.train()\n",
    "#     lower_bd, upper_bd = out_world.dim//3, 2*out_world.dim//3 #ensure location is within bounded range so no edge effects.\n",
    "    for step in range(num_batches):\n",
    "        w_ix = rand.choices(population = list(range(1,out_world.dim-1)), k = batch_size)\n",
    "#         w_ix = rand.choices(population = list(range(lower_bd,upper_bd)), k = batch_size)\n",
    "        w = out_world.batch_state(w_ix) #generate (w)\n",
    "        w = w.to(device)\n",
    "        fun_ix = rand.choices([0,1],k=batch_size) #randomly select f\n",
    "        psif_w = out_world.batch_act(fun_ix, w) #generate psi(f)(w)\n",
    "        phpsf_w = model(psif_w)\n",
    "        return \n",
    "        phi_w = model(w) #generate phi(w)\n",
    "        fph_w = in_world.batch_act(fun_ix,phi_w) #generate f(phi(w))\n",
    "        optimizer.zero_grad()\n",
    "        loss = F.mse_loss(phpsf_w, fph_w)\n",
    "        loss.backward()\n",
    "        optimizer.step()\n",
    "        if step % print_interval == 0:\n",
    "            print('{} :\\t Loss: {:.6f}'.format(\n",
    "                step, loss.item()))\n"
   ]
  },
  {
   "cell_type": "code",
   "execution_count": 5,
   "id": "d82c05c8",
   "metadata": {},
   "outputs": [],
   "source": [
    "import torch.optim as optim"
   ]
  },
  {
   "cell_type": "code",
   "execution_count": 10,
   "id": "d78c641c",
   "metadata": {},
   "outputs": [],
   "source": [
    "device = torch.device(1)"
   ]
  },
  {
   "cell_type": "code",
   "execution_count": 11,
   "id": "8c2f4e9f",
   "metadata": {},
   "outputs": [],
   "source": [
    "out_dim = 16\n",
    "trans_left = torch.zeros_like(torch.eye(out_dim)).to(device)\n",
    "trans_right = torch.zeros_like(torch.eye(out_dim)).to(device)\n",
    "for i in range(out_dim-1):\n",
    "    trans_right[i+1,i] = 1\n",
    "    trans_left[i,i+1] = 1"
   ]
  },
  {
   "cell_type": "code",
   "execution_count": 12,
   "id": "8d5e1908",
   "metadata": {},
   "outputs": [],
   "source": [
    "phi = phinet(out_dim).to(device)\n",
    "optimizer = optim.Adam(phi.parameters(), lr=0.001) #e-1"
   ]
  },
  {
   "cell_type": "code",
   "execution_count": 13,
   "id": "c113b750",
   "metadata": {},
   "outputs": [],
   "source": [
    "out_world = world(function_set = [lambda x: torch.mv(trans_left,x), lambda x: torch.mv(trans_right,x)], dim = out_dim)\n",
    "in_world = world(function_set = [lambda x: x+1, lambda x: x-1], dim = 1)"
   ]
  },
  {
   "cell_type": "code",
   "execution_count": 14,
   "id": "6482a12a",
   "metadata": {},
   "outputs": [],
   "source": [
    "batch_size = 50\n",
    "print_interval = 100\n",
    "num_batches = 2000"
   ]
  },
  {
   "cell_type": "code",
   "execution_count": 21,
   "id": "08d07d7e",
   "metadata": {},
   "outputs": [],
   "source": [
    "train(phi, device, out_world, in_world, optimizer, batch_size, print_interval, num_batches)"
   ]
  },
  {
   "cell_type": "code",
   "execution_count": 18,
   "id": "91c5a13e",
   "metadata": {},
   "outputs": [],
   "source": [
    "test_ix = rand.choices(population = list(range(4,12)), k = 20)\n",
    "test_w = out_world.batch_state(test_ix) #generate (w)\n",
    "test_w = test_w.to(device)\n"
   ]
  },
  {
   "cell_type": "code",
   "execution_count": 315,
   "id": "76284f2b",
   "metadata": {},
   "outputs": [
    {
     "data": {
      "text/plain": [
       "tensor([[-3.2923],\n",
       "        [-0.2947],\n",
       "        [-3.2923],\n",
       "        [-1.2939],\n",
       "        [-3.2923],\n",
       "        [ 1.7043],\n",
       "        [-4.2918],\n",
       "        [-2.2930],\n",
       "        [ 0.7048],\n",
       "        [ 1.7043],\n",
       "        [-0.2947],\n",
       "        [-2.2930],\n",
       "        [-0.2947],\n",
       "        [-4.2918],\n",
       "        [-5.2913],\n",
       "        [ 1.7043],\n",
       "        [-0.2947],\n",
       "        [-4.2918],\n",
       "        [-1.2939],\n",
       "        [-1.2939]], device='cuda:1', grad_fn=<AddmmBackward>)"
      ]
     },
     "execution_count": 315,
     "metadata": {},
     "output_type": "execute_result"
    }
   ],
   "source": [
    "phi.eval()\n",
    "phi(test_w)"
   ]
  },
  {
   "cell_type": "code",
   "execution_count": 316,
   "id": "7b1a8458",
   "metadata": {},
   "outputs": [
    {
     "data": {
      "text/plain": [
       "[9, 6, 9, 7, 9, 4, 10, 8, 5, 4, 6, 8, 6, 10, 11, 4, 6, 10, 7, 7]"
      ]
     },
     "execution_count": 316,
     "metadata": {},
     "output_type": "execute_result"
    }
   ],
   "source": [
    "test_ix"
   ]
  },
  {
   "cell_type": "code",
   "execution_count": null,
   "id": "033e6581",
   "metadata": {},
   "outputs": [],
   "source": [
    "#Train\n",
    "\n",
    "#1. input w fed through phi-net to get phi(w)\n",
    "w \n",
    "#2. randomly sample among F\n",
    "\n",
    "#3. map using fixed psito F'\n",
    "\n",
    "#4. generate w' = phi(psi(F)w)\n",
    "\n",
    "#5. compute loss ||w' - w|| and compute"
   ]
  }
 ],
 "metadata": {
  "kernelspec": {
   "display_name": "Python 3",
   "language": "python",
   "name": "python3"
  },
  "language_info": {
   "codemirror_mode": {
    "name": "ipython",
    "version": 3
   },
   "file_extension": ".py",
   "mimetype": "text/x-python",
   "name": "python",
   "nbconvert_exporter": "python",
   "pygments_lexer": "ipython3",
   "version": "3.8.8"
  }
 },
 "nbformat": 4,
 "nbformat_minor": 5
}
